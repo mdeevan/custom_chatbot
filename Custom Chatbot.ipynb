{
 "cells": [
  {
   "cell_type": "markdown",
   "id": "124e5672",
   "metadata": {},
   "source": [
    "# Custom Chatbot Project"
   ]
  },
  {
   "cell_type": "markdown",
   "id": "2a4a94b3",
   "metadata": {},
   "source": [
    "Survivor is an American reality series running since May of 2000 with two seasons every year. Its quiet popular, seeing its a continous airing for over 24 years.\n",
    "\n",
    "pi.ai and chatgpt.open.ai only has the data up until 2021."
   ]
  },
  {
   "cell_type": "code",
   "execution_count": null,
   "id": "3fe735d0",
   "metadata": {},
   "outputs": [],
   "source": []
  },
  {
   "cell_type": "markdown",
   "id": "a63d4c5f",
   "metadata": {},
   "source": [
    "## Data Wrangling\n",
    "\n",
    "TODO: In the cells below, load your chosen dataset into a `pandas` dataframe with a column named `\"text\"`. This column should contain all of your text data, separated into at least 20 rows."
   ]
  },
  {
   "cell_type": "markdown",
   "id": "a962dd4d",
   "metadata": {},
   "source": [
    "## Import the support libraries\n",
    " requests : to load the webpage <br>\n",
    " pandas : to capture the data in a tabular format<br>\n",
    " re : regular expression to cleanup and extract the required data<br>\n",
    " BeautifulSoup : to wrangle the HTML data"
   ]
  },
  {
   "cell_type": "code",
   "execution_count": 1,
   "id": "2cf7c3ea",
   "metadata": {},
   "outputs": [],
   "source": [
    "import requests\n",
    "import pandas as pd\n",
    "import re\n",
    "from bs4 import BeautifulSoup"
   ]
  },
  {
   "cell_type": "markdown",
   "id": "90c0376c",
   "metadata": {},
   "source": [
    "Two different websites are used to capture the required data <br>\n",
    "Wikipedia provides the contestants details that include season, age, home town and their rank in the season<br>\n",
    "fandom to capture the air dates of the episodes.<br><br>\n",
    "\n",
    "combining the two will provide us the information on the start, end of the season, contestant and their ranks"
   ]
  },
  {
   "cell_type": "code",
   "execution_count": 2,
   "id": "0a595980",
   "metadata": {},
   "outputs": [],
   "source": [
    "contestants_url = \"https://en.wikipedia.org/wiki/List_of_Survivor_(American_TV_series)_contestants\"\n",
    "seasons_url=\"https://gameshows.fandom.com/wiki/Survivor/Airdates\""
   ]
  },
  {
   "cell_type": "markdown",
   "id": "035fa49a",
   "metadata": {},
   "source": [
    "### scrape data from the wikipedia\n",
    "\n",
    "using requests to get the HTML"
   ]
  },
  {
   "cell_type": "code",
   "execution_count": 3,
   "id": "acb3a9fd",
   "metadata": {},
   "outputs": [
    {
     "data": {
      "text/plain": [
       "<Response [200]>"
      ]
     },
     "execution_count": 3,
     "metadata": {},
     "output_type": "execute_result"
    }
   ],
   "source": [
    "resp = requests.get(contestants_url)\n",
    "resp"
   ]
  },
  {
   "cell_type": "markdown",
   "id": "398fa9e6",
   "metadata": {},
   "source": [
    "Using beautifulSoup to parse the response into an soup object, which we later use to traverse the document"
   ]
  },
  {
   "cell_type": "code",
   "execution_count": 4,
   "id": "db5e7dd4",
   "metadata": {},
   "outputs": [],
   "source": [
    "soup = BeautifulSoup(resp.text,'html.parser')"
   ]
  },
  {
   "cell_type": "markdown",
   "id": "e8c53bb0",
   "metadata": {},
   "source": [
    "the 46 seasons (as of this project) are captured under 10 separate tables (TABLE tag with TH,TR, TD) </br>\n",
    "Each **table**, has **tbody**, which in turn contains the **tr** table-row <br>\n",
    "each table row has columns as **th** and **td** <br>\n",
    "we iterate through table, rows and combine the columns within a row to form a list, which is appended to a dataframe"
   ]
  },
  {
   "cell_type": "code",
   "execution_count": 5,
   "id": "1a7f425e",
   "metadata": {},
   "outputs": [],
   "source": [
    "tables=soup.find_all('table', {'class' : 'wikitable'})"
   ]
  },
  {
   "cell_type": "code",
   "execution_count": 6,
   "id": "78ba6ec5",
   "metadata": {},
   "outputs": [],
   "source": [
    "# create an empty dataframe to hold the data\n",
    "dfContestents = pd.DataFrame()\n",
    "# pat = \"[^\\d]*\"\n",
    "\n",
    "# cleanup the season number, which has spaces and an exclamation point. \n",
    "# we use this pattern from extract only the digits, as many as they are\n",
    "pat = \"[\\d]+\"\n",
    "\n",
    "# enumerate, and iterate through the tables list\n",
    "for idx_table, table in enumerate(tables):\n",
    "\n",
    "#     if idx_table==9:    # this is to elimnate the season 46, to avoid spoiler alert, I'm catching up the episides :)\n",
    "#         continue\n",
    "\n",
    "    \n",
    "    # capture the tbody with the tables, one by one, we don't need all of them, just the immediate next one\n",
    "    # this is where beautifulsoap makes processing HTML simpler\n",
    "    tbody = table.find('tbody') \n",
    "    \n",
    "\n",
    "    # find all rows under the tbody\n",
    "    rows = tbody.find_all('tr')\n",
    "    \n",
    "    # initialize the variables\n",
    "    season_contestants = []\n",
    "    col_headings=[]\n",
    "    season = 0\n",
    "\n",
    "    \n",
    "    # Iterate the rows\n",
    "    for idx_row, row in enumerate(rows):\n",
    "    \n",
    "        # Select TH and TD\n",
    "        cols = row.find_all(['th','td'])\n",
    "        \n",
    "\n",
    "        \n",
    "        # this is specific to how the page is structured\n",
    "        # for some places in contestant name is an hyperlink and therefore make use of TH along\n",
    "        # with span and anchor \n",
    "        # we need to make the following specific to the page being scapred\n",
    "\n",
    "        lst = []\n",
    "        \n",
    "        for idx_col, col in enumerate(cols):\n",
    "            span   = col.find(\"span\")\n",
    "            anchor = col.find(\"a\")\n",
    "                \n",
    "#             print('col = ', col.text.strip())\n",
    "        \n",
    "            # Capture the season number ana name, which only appears once against all the contestants\n",
    "            if  (span!=None \n",
    "                 and anchor!=None \n",
    "                 and \"Survivor\" in anchor['title']\n",
    "                 and \"Survivor contestant\" not in anchor['title']\n",
    "                ):\n",
    "            \n",
    "#                 season = re.sub(pat,\"\", span['data-sort-value']).strip()\n",
    "                season = re.findall(pat, span['data-sort-value']) \n",
    "                if len(season) > 0:\n",
    "                    season = int(season[0])\n",
    "                    season_name = col.text.strip()\n",
    "\n",
    "                continue\n",
    "                \n",
    "            # value of the columnar table in HTML\n",
    "            else: \n",
    "                val = col.text.strip()\n",
    "          \n",
    "\n",
    "            # make a list of all the HTML column within a single row\n",
    "            lst.append(val)\n",
    "        \n",
    "        # special handling, the first row in each table has headings\n",
    "        # so we are capturing it by referring to the first row in the list\n",
    "        # since, season number and name, only appear once for a season,\n",
    "        # these are added against each row prior to reading the next row\n",
    "        \n",
    "        if (idx_row == 0 ):\n",
    "            col_headings = lst\n",
    "        else:\n",
    "            lst.insert(0, season)\n",
    "            lst.insert(1, season_name)\n",
    "            season_contestants.append(lst)\n",
    "\n",
    "#     print(\"column headings = \", col_headings)\n",
    "#     print (\"season plus list \", season_contestants)\n",
    "    \n",
    "    # update the heading to include season name\n",
    "    col_headings.insert(1, \"Season Name\")\n",
    "\n",
    "    # finally, we add all the rows within a table into pandas dataframe before processing the next table\n",
    "    # remember there are multiple tables with a page, breaking the seasons into 5 seasons per table\n",
    "    dfContestents = pd.concat([dfContestents,\n",
    "                               pd.DataFrame(season_contestants, columns=col_headings)\n",
    "                              ])\n",
    "\n"
   ]
  },
  {
   "cell_type": "code",
   "execution_count": 7,
   "id": "c856b722",
   "metadata": {},
   "outputs": [
    {
     "data": {
      "text/plain": [
       "['Season', 'Season Name', 'Name', 'Age', 'Hometown', 'Profession', 'Finish']"
      ]
     },
     "execution_count": 7,
     "metadata": {},
     "output_type": "execute_result"
    }
   ],
   "source": [
    "col_headings"
   ]
  },
  {
   "cell_type": "code",
   "execution_count": 8,
   "id": "2b760cea",
   "metadata": {},
   "outputs": [
    {
     "data": {
      "text/html": [
       "<div>\n",
       "<style scoped>\n",
       "    .dataframe tbody tr th:only-of-type {\n",
       "        vertical-align: middle;\n",
       "    }\n",
       "\n",
       "    .dataframe tbody tr th {\n",
       "        vertical-align: top;\n",
       "    }\n",
       "\n",
       "    .dataframe thead th {\n",
       "        text-align: right;\n",
       "    }\n",
       "</style>\n",
       "<table border=\"1\" class=\"dataframe\">\n",
       "  <thead>\n",
       "    <tr style=\"text-align: right;\">\n",
       "      <th></th>\n",
       "      <th>Season</th>\n",
       "      <th>Season Name</th>\n",
       "      <th>Name</th>\n",
       "      <th>Age</th>\n",
       "      <th>Hometown</th>\n",
       "      <th>Profession</th>\n",
       "      <th>Finish</th>\n",
       "    </tr>\n",
       "  </thead>\n",
       "  <tbody>\n",
       "    <tr>\n",
       "      <th>0</th>\n",
       "      <td>1</td>\n",
       "      <td>Survivor: Borneo</td>\n",
       "      <td>Sonja Christopher</td>\n",
       "      <td>63</td>\n",
       "      <td>Walnut Creek, CA</td>\n",
       "      <td>Gym Teacher / Retired</td>\n",
       "      <td>16th</td>\n",
       "    </tr>\n",
       "    <tr>\n",
       "      <th>1</th>\n",
       "      <td>1</td>\n",
       "      <td>Survivor: Borneo</td>\n",
       "      <td>Bill \"B.B.\" Andersen</td>\n",
       "      <td>64</td>\n",
       "      <td>Mission Hills, KS</td>\n",
       "      <td>Real Estate Developer</td>\n",
       "      <td>15th</td>\n",
       "    </tr>\n",
       "    <tr>\n",
       "      <th>2</th>\n",
       "      <td>1</td>\n",
       "      <td>Survivor: Borneo</td>\n",
       "      <td>Stacey Stillman</td>\n",
       "      <td>27</td>\n",
       "      <td>San Francisco, CA</td>\n",
       "      <td>Attorney</td>\n",
       "      <td>14th</td>\n",
       "    </tr>\n",
       "    <tr>\n",
       "      <th>3</th>\n",
       "      <td>1</td>\n",
       "      <td>Survivor: Borneo</td>\n",
       "      <td>Ramona Gray</td>\n",
       "      <td>29</td>\n",
       "      <td>Edison, NJ</td>\n",
       "      <td>Biochemist</td>\n",
       "      <td>13th</td>\n",
       "    </tr>\n",
       "    <tr>\n",
       "      <th>4</th>\n",
       "      <td>1</td>\n",
       "      <td>Survivor: Borneo</td>\n",
       "      <td>Dirk Been</td>\n",
       "      <td>23</td>\n",
       "      <td>Spring Green, WI</td>\n",
       "      <td>Dairy Farmer</td>\n",
       "      <td>12th</td>\n",
       "    </tr>\n",
       "  </tbody>\n",
       "</table>\n",
       "</div>"
      ],
      "text/plain": [
       "   Season       Season Name                  Name Age           Hometown  \\\n",
       "0       1  Survivor: Borneo     Sonja Christopher  63   Walnut Creek, CA   \n",
       "1       1  Survivor: Borneo  Bill \"B.B.\" Andersen  64  Mission Hills, KS   \n",
       "2       1  Survivor: Borneo       Stacey Stillman  27  San Francisco, CA   \n",
       "3       1  Survivor: Borneo           Ramona Gray  29         Edison, NJ   \n",
       "4       1  Survivor: Borneo             Dirk Been  23   Spring Green, WI   \n",
       "\n",
       "              Profession Finish  \n",
       "0  Gym Teacher / Retired   16th  \n",
       "1  Real Estate Developer   15th  \n",
       "2               Attorney   14th  \n",
       "3             Biochemist   13th  \n",
       "4           Dairy Farmer   12th  "
      ]
     },
     "execution_count": 8,
     "metadata": {},
     "output_type": "execute_result"
    }
   ],
   "source": [
    "dfContestents.head()"
   ]
  },
  {
   "cell_type": "markdown",
   "id": "5b863ef7",
   "metadata": {},
   "source": [
    "### Tried to use selenium, but its not available in udacity workspace"
   ]
  },
  {
   "cell_type": "code",
   "execution_count": 9,
   "id": "40b8fd62",
   "metadata": {},
   "outputs": [],
   "source": [
    "# !pip install selenium --upgrade"
   ]
  },
  {
   "cell_type": "code",
   "execution_count": 10,
   "id": "f1c80c9b",
   "metadata": {},
   "outputs": [],
   "source": [
    "# dfContestents['Season'].astype(str).astype(int)"
   ]
  },
  {
   "cell_type": "code",
   "execution_count": 11,
   "id": "5fa5bd04",
   "metadata": {},
   "outputs": [],
   "source": [
    "# from selenium import webdriver\n",
    "# from selenium.webdriver.chrome.options import Options\n",
    "\n",
    "# options = Options()\n",
    "# options.headless = True\n",
    "# options.add_argument(\"--window-size=1920,1080\")\n",
    "\n",
    "# driver = webdriver.Chrome(options=options, executable_path='/path/to/chromedriver')\n",
    "# driver.get(seasons)\n",
    "# page_source = driver.page_source\n",
    "# # with open(\"udacity_home.html\", \"w\") as f:\n",
    "# #     f.write(page_source)\n",
    "# driver.quit()"
   ]
  },
  {
   "cell_type": "markdown",
   "id": "75c26445",
   "metadata": {},
   "source": [
    "### scrape data from fandom\n",
    "grab the season airdates from fandom and follow same steps that were applied for wiki (contestants) pages"
   ]
  },
  {
   "cell_type": "code",
   "execution_count": 12,
   "id": "f8485127",
   "metadata": {},
   "outputs": [],
   "source": [
    "seasons_url=\"https://gameshows.fandom.com/wiki/Survivor/Airdates\""
   ]
  },
  {
   "cell_type": "code",
   "execution_count": 13,
   "id": "9b3e8c2b",
   "metadata": {},
   "outputs": [
    {
     "data": {
      "text/plain": [
       "<Response [200]>"
      ]
     },
     "execution_count": 13,
     "metadata": {},
     "output_type": "execute_result"
    }
   ],
   "source": [
    "resp = requests.get(seasons_url)\n",
    "resp"
   ]
  },
  {
   "cell_type": "code",
   "execution_count": 14,
   "id": "a94f9ef4",
   "metadata": {},
   "outputs": [],
   "source": [
    "soup = BeautifulSoup(resp.text,'html.parser')\n",
    "# print(soup.prettify())"
   ]
  },
  {
   "cell_type": "markdown",
   "id": "e794cf26",
   "metadata": {},
   "source": [
    "#### same steps as used for scraping the wikipedia, only simpler\n",
    "here the Table has rows (TR), which comprises of TH and TD"
   ]
  },
  {
   "cell_type": "code",
   "execution_count": 15,
   "id": "462ebbcc",
   "metadata": {},
   "outputs": [],
   "source": [
    "table = soup.find('table', {'class' : 'wikitable'})"
   ]
  },
  {
   "cell_type": "code",
   "execution_count": 16,
   "id": "74eca1e4",
   "metadata": {},
   "outputs": [],
   "source": [
    "rows = table.find_all('tr')\n",
    "\n",
    "seasons_list = []\n",
    "for idx_row, row in enumerate(rows):\n",
    "    \n",
    "    cols = row.find_all(['th','td'])\n",
    "    lst = []\n",
    "    for col in cols:\n",
    "        lst.append(col.text.strip())\n",
    "        \n",
    "    seasons_list.append(lst)\n",
    "\n",
    "# print(seasons_list)\n",
    " "
   ]
  },
  {
   "cell_type": "code",
   "execution_count": 17,
   "id": "959e54e4",
   "metadata": {},
   "outputs": [
    {
     "data": {
      "text/plain": [
       "['Season #', 'Premiering Date', 'Finale Date']"
      ]
     },
     "execution_count": 17,
     "metadata": {},
     "output_type": "execute_result"
    }
   ],
   "source": [
    "seasons_list[0]"
   ]
  },
  {
   "cell_type": "code",
   "execution_count": null,
   "id": "b5ae8980",
   "metadata": {},
   "outputs": [],
   "source": []
  },
  {
   "cell_type": "code",
   "execution_count": 18,
   "id": "0169eaac",
   "metadata": {},
   "outputs": [
    {
     "data": {
      "text/html": [
       "<div>\n",
       "<style scoped>\n",
       "    .dataframe tbody tr th:only-of-type {\n",
       "        vertical-align: middle;\n",
       "    }\n",
       "\n",
       "    .dataframe tbody tr th {\n",
       "        vertical-align: top;\n",
       "    }\n",
       "\n",
       "    .dataframe thead th {\n",
       "        text-align: right;\n",
       "    }\n",
       "</style>\n",
       "<table border=\"1\" class=\"dataframe\">\n",
       "  <thead>\n",
       "    <tr style=\"text-align: right;\">\n",
       "      <th></th>\n",
       "      <th>Season #</th>\n",
       "      <th>Premiering Date</th>\n",
       "      <th>Finale Date</th>\n",
       "    </tr>\n",
       "  </thead>\n",
       "  <tbody>\n",
       "    <tr>\n",
       "      <th>0</th>\n",
       "      <td>1</td>\n",
       "      <td>May 31, 2000</td>\n",
       "      <td>August 23, 2000</td>\n",
       "    </tr>\n",
       "    <tr>\n",
       "      <th>1</th>\n",
       "      <td>2</td>\n",
       "      <td>January 28, 2001</td>\n",
       "      <td>May 3, 2001</td>\n",
       "    </tr>\n",
       "    <tr>\n",
       "      <th>2</th>\n",
       "      <td>3</td>\n",
       "      <td>October 11, 2001</td>\n",
       "      <td>January 10, 2002</td>\n",
       "    </tr>\n",
       "    <tr>\n",
       "      <th>3</th>\n",
       "      <td>4</td>\n",
       "      <td>February 28, 2002</td>\n",
       "      <td>May 19, 2002</td>\n",
       "    </tr>\n",
       "    <tr>\n",
       "      <th>4</th>\n",
       "      <td>5</td>\n",
       "      <td>September 19, 2002</td>\n",
       "      <td>December 19, 2002</td>\n",
       "    </tr>\n",
       "  </tbody>\n",
       "</table>\n",
       "</div>"
      ],
      "text/plain": [
       "  Season #     Premiering Date        Finale Date\n",
       "0        1        May 31, 2000    August 23, 2000\n",
       "1        2    January 28, 2001        May 3, 2001\n",
       "2        3    October 11, 2001   January 10, 2002\n",
       "3        4   February 28, 2002       May 19, 2002\n",
       "4        5  September 19, 2002  December 19, 2002"
      ]
     },
     "execution_count": 18,
     "metadata": {},
     "output_type": "execute_result"
    }
   ],
   "source": [
    "# create a dataframe from the season list, the first row contains the heading and rest i s the data\n",
    "dfSeasons = pd.DataFrame(seasons_list[1:], columns=seasons_list[0])\n",
    "dfSeasons.head(5)"
   ]
  },
  {
   "cell_type": "code",
   "execution_count": 19,
   "id": "43259ecf",
   "metadata": {},
   "outputs": [],
   "source": [
    "# # change the data format to yyyy-mm-dd for both the premiering and the finale dates\n",
    "# dfSeasons['Premiering Date']=pd.to_datetime(dfSeasons['Premiering Date'], format='%B %d, %Y')\n",
    "# dfSeasons['Finale Date']    =pd.to_datetime(dfSeasons['Finale Date']    , format='%B %d, %Y')\n",
    "# dfSeasons.head(5)"
   ]
  },
  {
   "cell_type": "code",
   "execution_count": 20,
   "id": "cb3255f3",
   "metadata": {},
   "outputs": [],
   "source": [
    "# before merging the two dataframes, and for simplicity make the name of the column used for merging the same\n",
    "# Change the datatype of the season to integer\n",
    "\n",
    "dfSeasons.rename(columns={'Season #': 'Season'}, inplace=True)\n",
    "\n",
    "dfSeasons['Season']     = dfSeasons['Season'].astype(str).astype(int)\n",
    "dfContestents['Season'] = dfContestents['Season'].astype(str).astype(int)"
   ]
  },
  {
   "cell_type": "code",
   "execution_count": 21,
   "id": "3cf2ee0b",
   "metadata": {},
   "outputs": [],
   "source": [
    "# merge the two dataframes to create the single dataframe, which now has contestant as well as season start/end date\n",
    "\n",
    "dfSurvivor=dfContestents.merge(dfSeasons,\n",
    "                    on  ='Season',\n",
    "                    how = 'left',\n",
    "                   )"
   ]
  },
  {
   "cell_type": "code",
   "execution_count": null,
   "id": "b488baf1",
   "metadata": {},
   "outputs": [],
   "source": []
  },
  {
   "cell_type": "code",
   "execution_count": 22,
   "id": "a34fbca5",
   "metadata": {},
   "outputs": [
    {
     "data": {
      "text/html": [
       "<div>\n",
       "<style scoped>\n",
       "    .dataframe tbody tr th:only-of-type {\n",
       "        vertical-align: middle;\n",
       "    }\n",
       "\n",
       "    .dataframe tbody tr th {\n",
       "        vertical-align: top;\n",
       "    }\n",
       "\n",
       "    .dataframe thead th {\n",
       "        text-align: right;\n",
       "    }\n",
       "</style>\n",
       "<table border=\"1\" class=\"dataframe\">\n",
       "  <thead>\n",
       "    <tr style=\"text-align: right;\">\n",
       "      <th></th>\n",
       "      <th>Season</th>\n",
       "      <th>Season Name</th>\n",
       "      <th>Name</th>\n",
       "      <th>Age</th>\n",
       "      <th>Hometown</th>\n",
       "      <th>Profession</th>\n",
       "      <th>Finish</th>\n",
       "      <th>Premiering Date</th>\n",
       "      <th>Finale Date</th>\n",
       "    </tr>\n",
       "  </thead>\n",
       "  <tbody>\n",
       "    <tr>\n",
       "      <th>0</th>\n",
       "      <td>1</td>\n",
       "      <td>Survivor: Borneo</td>\n",
       "      <td>Sonja Christopher</td>\n",
       "      <td>63</td>\n",
       "      <td>Walnut Creek, CA</td>\n",
       "      <td>Gym Teacher / Retired</td>\n",
       "      <td>16th</td>\n",
       "      <td>May 31, 2000</td>\n",
       "      <td>August 23, 2000</td>\n",
       "    </tr>\n",
       "    <tr>\n",
       "      <th>1</th>\n",
       "      <td>1</td>\n",
       "      <td>Survivor: Borneo</td>\n",
       "      <td>Bill \"B.B.\" Andersen</td>\n",
       "      <td>64</td>\n",
       "      <td>Mission Hills, KS</td>\n",
       "      <td>Real Estate Developer</td>\n",
       "      <td>15th</td>\n",
       "      <td>May 31, 2000</td>\n",
       "      <td>August 23, 2000</td>\n",
       "    </tr>\n",
       "    <tr>\n",
       "      <th>2</th>\n",
       "      <td>1</td>\n",
       "      <td>Survivor: Borneo</td>\n",
       "      <td>Stacey Stillman</td>\n",
       "      <td>27</td>\n",
       "      <td>San Francisco, CA</td>\n",
       "      <td>Attorney</td>\n",
       "      <td>14th</td>\n",
       "      <td>May 31, 2000</td>\n",
       "      <td>August 23, 2000</td>\n",
       "    </tr>\n",
       "    <tr>\n",
       "      <th>3</th>\n",
       "      <td>1</td>\n",
       "      <td>Survivor: Borneo</td>\n",
       "      <td>Ramona Gray</td>\n",
       "      <td>29</td>\n",
       "      <td>Edison, NJ</td>\n",
       "      <td>Biochemist</td>\n",
       "      <td>13th</td>\n",
       "      <td>May 31, 2000</td>\n",
       "      <td>August 23, 2000</td>\n",
       "    </tr>\n",
       "    <tr>\n",
       "      <th>4</th>\n",
       "      <td>1</td>\n",
       "      <td>Survivor: Borneo</td>\n",
       "      <td>Dirk Been</td>\n",
       "      <td>23</td>\n",
       "      <td>Spring Green, WI</td>\n",
       "      <td>Dairy Farmer</td>\n",
       "      <td>12th</td>\n",
       "      <td>May 31, 2000</td>\n",
       "      <td>August 23, 2000</td>\n",
       "    </tr>\n",
       "  </tbody>\n",
       "</table>\n",
       "</div>"
      ],
      "text/plain": [
       "   Season       Season Name                  Name Age           Hometown  \\\n",
       "0       1  Survivor: Borneo     Sonja Christopher  63   Walnut Creek, CA   \n",
       "1       1  Survivor: Borneo  Bill \"B.B.\" Andersen  64  Mission Hills, KS   \n",
       "2       1  Survivor: Borneo       Stacey Stillman  27  San Francisco, CA   \n",
       "3       1  Survivor: Borneo           Ramona Gray  29         Edison, NJ   \n",
       "4       1  Survivor: Borneo             Dirk Been  23   Spring Green, WI   \n",
       "\n",
       "              Profession Finish Premiering Date      Finale Date  \n",
       "0  Gym Teacher / Retired   16th    May 31, 2000  August 23, 2000  \n",
       "1  Real Estate Developer   15th    May 31, 2000  August 23, 2000  \n",
       "2               Attorney   14th    May 31, 2000  August 23, 2000  \n",
       "3             Biochemist   13th    May 31, 2000  August 23, 2000  \n",
       "4           Dairy Farmer   12th    May 31, 2000  August 23, 2000  "
      ]
     },
     "execution_count": 22,
     "metadata": {},
     "output_type": "execute_result"
    }
   ],
   "source": [
    "dfSurvivor.head()"
   ]
  },
  {
   "cell_type": "markdown",
   "id": "f996da49",
   "metadata": {},
   "source": [
    "### Survivor 40 is the last season available in chatGPT, so we take the data from Season 41 onward scraped above"
   ]
  },
  {
   "cell_type": "code",
   "execution_count": 23,
   "id": "7c9e1eb1",
   "metadata": {},
   "outputs": [],
   "source": [
    "cond=dfSurvivor['Season'] >= 41\n",
    "dfSurvivor_copy = dfSurvivor[cond].copy()"
   ]
  },
  {
   "cell_type": "code",
   "execution_count": 24,
   "id": "7fcd7fbc",
   "metadata": {},
   "outputs": [
    {
     "data": {
      "text/html": [
       "<div>\n",
       "<style scoped>\n",
       "    .dataframe tbody tr th:only-of-type {\n",
       "        vertical-align: middle;\n",
       "    }\n",
       "\n",
       "    .dataframe tbody tr th {\n",
       "        vertical-align: top;\n",
       "    }\n",
       "\n",
       "    .dataframe thead th {\n",
       "        text-align: right;\n",
       "    }\n",
       "</style>\n",
       "<table border=\"1\" class=\"dataframe\">\n",
       "  <thead>\n",
       "    <tr style=\"text-align: right;\">\n",
       "      <th></th>\n",
       "      <th>Season</th>\n",
       "      <th>Season Name</th>\n",
       "      <th>Name</th>\n",
       "      <th>Age</th>\n",
       "      <th>Hometown</th>\n",
       "      <th>Profession</th>\n",
       "      <th>Finish</th>\n",
       "      <th>Premiering Date</th>\n",
       "      <th>Finale Date</th>\n",
       "    </tr>\n",
       "  </thead>\n",
       "  <tbody>\n",
       "    <tr>\n",
       "      <th>731</th>\n",
       "      <td>41</td>\n",
       "      <td>41</td>\n",
       "      <td>Eric Abraham</td>\n",
       "      <td>51</td>\n",
       "      <td>San Antonio, TX</td>\n",
       "      <td>Cyber Security Analyst</td>\n",
       "      <td>18th</td>\n",
       "      <td>September 22, 2021</td>\n",
       "      <td>December 15, 2021</td>\n",
       "    </tr>\n",
       "    <tr>\n",
       "      <th>732</th>\n",
       "      <td>41</td>\n",
       "      <td>41</td>\n",
       "      <td>Sara Wilson</td>\n",
       "      <td>24</td>\n",
       "      <td>Boston, MA</td>\n",
       "      <td>Healthcare Consultant</td>\n",
       "      <td>17th</td>\n",
       "      <td>September 22, 2021</td>\n",
       "      <td>December 15, 2021</td>\n",
       "    </tr>\n",
       "    <tr>\n",
       "      <th>733</th>\n",
       "      <td>41</td>\n",
       "      <td>41</td>\n",
       "      <td>David Voce</td>\n",
       "      <td>35</td>\n",
       "      <td>Chicago, IL</td>\n",
       "      <td>Neurosurgeon</td>\n",
       "      <td>16th</td>\n",
       "      <td>September 22, 2021</td>\n",
       "      <td>December 15, 2021</td>\n",
       "    </tr>\n",
       "    <tr>\n",
       "      <th>734</th>\n",
       "      <td>41</td>\n",
       "      <td>41</td>\n",
       "      <td>Brad Reese</td>\n",
       "      <td>50</td>\n",
       "      <td>Shawnee, WY</td>\n",
       "      <td>Rancher</td>\n",
       "      <td>15th</td>\n",
       "      <td>September 22, 2021</td>\n",
       "      <td>December 15, 2021</td>\n",
       "    </tr>\n",
       "    <tr>\n",
       "      <th>735</th>\n",
       "      <td>41</td>\n",
       "      <td>41</td>\n",
       "      <td>Jairus \"JD\" Robinson</td>\n",
       "      <td>20</td>\n",
       "      <td>Oklahoma City, OK</td>\n",
       "      <td>College Student</td>\n",
       "      <td>14th</td>\n",
       "      <td>September 22, 2021</td>\n",
       "      <td>December 15, 2021</td>\n",
       "    </tr>\n",
       "    <tr>\n",
       "      <th>736</th>\n",
       "      <td>41</td>\n",
       "      <td>41</td>\n",
       "      <td>Genie Chen</td>\n",
       "      <td>46</td>\n",
       "      <td>Portland, OR</td>\n",
       "      <td>Grocery Clerk</td>\n",
       "      <td>13th</td>\n",
       "      <td>September 22, 2021</td>\n",
       "      <td>December 15, 2021</td>\n",
       "    </tr>\n",
       "    <tr>\n",
       "      <th>737</th>\n",
       "      <td>41</td>\n",
       "      <td>41</td>\n",
       "      <td>Sydney Segal</td>\n",
       "      <td>26</td>\n",
       "      <td>Brooklyn, NY</td>\n",
       "      <td>Law Student</td>\n",
       "      <td>12th</td>\n",
       "      <td>September 22, 2021</td>\n",
       "      <td>December 15, 2021</td>\n",
       "    </tr>\n",
       "    <tr>\n",
       "      <th>738</th>\n",
       "      <td>41</td>\n",
       "      <td>41</td>\n",
       "      <td>Tiffany Seely</td>\n",
       "      <td>47</td>\n",
       "      <td>Plainview, NY</td>\n",
       "      <td>Teacher</td>\n",
       "      <td>11th</td>\n",
       "      <td>September 22, 2021</td>\n",
       "      <td>December 15, 2021</td>\n",
       "    </tr>\n",
       "    <tr>\n",
       "      <th>739</th>\n",
       "      <td>41</td>\n",
       "      <td>41</td>\n",
       "      <td>Naseer Muttalif</td>\n",
       "      <td>37</td>\n",
       "      <td>Morgan Hill, CA</td>\n",
       "      <td>Sales Manager</td>\n",
       "      <td>10th</td>\n",
       "      <td>September 22, 2021</td>\n",
       "      <td>December 15, 2021</td>\n",
       "    </tr>\n",
       "    <tr>\n",
       "      <th>740</th>\n",
       "      <td>41</td>\n",
       "      <td>41</td>\n",
       "      <td>Evelyn \"Evvie\" Jagoda</td>\n",
       "      <td>28</td>\n",
       "      <td>Arlington, MA</td>\n",
       "      <td>PhD Student</td>\n",
       "      <td>9th</td>\n",
       "      <td>September 22, 2021</td>\n",
       "      <td>December 15, 2021</td>\n",
       "    </tr>\n",
       "    <tr>\n",
       "      <th>741</th>\n",
       "      <td>41</td>\n",
       "      <td>41</td>\n",
       "      <td>Shantel \"Shan\" Smith</td>\n",
       "      <td>34</td>\n",
       "      <td>Washington, DC</td>\n",
       "      <td>Pastor</td>\n",
       "      <td>8th</td>\n",
       "      <td>September 22, 2021</td>\n",
       "      <td>December 15, 2021</td>\n",
       "    </tr>\n",
       "    <tr>\n",
       "      <th>742</th>\n",
       "      <td>41</td>\n",
       "      <td>41</td>\n",
       "      <td>Liana Wallace</td>\n",
       "      <td>20</td>\n",
       "      <td>Washington, DC</td>\n",
       "      <td>College Student</td>\n",
       "      <td>7th</td>\n",
       "      <td>September 22, 2021</td>\n",
       "      <td>December 15, 2021</td>\n",
       "    </tr>\n",
       "    <tr>\n",
       "      <th>743</th>\n",
       "      <td>41</td>\n",
       "      <td>41</td>\n",
       "      <td>Danny McCray</td>\n",
       "      <td>33</td>\n",
       "      <td>Frisco, TX</td>\n",
       "      <td>Ex-NFL Player</td>\n",
       "      <td>6th</td>\n",
       "      <td>September 22, 2021</td>\n",
       "      <td>December 15, 2021</td>\n",
       "    </tr>\n",
       "    <tr>\n",
       "      <th>744</th>\n",
       "      <td>41</td>\n",
       "      <td>41</td>\n",
       "      <td>Ricard Foyé</td>\n",
       "      <td>31</td>\n",
       "      <td>Sedro-Woolley, WA</td>\n",
       "      <td>Flight Attendant</td>\n",
       "      <td>5th</td>\n",
       "      <td>September 22, 2021</td>\n",
       "      <td>December 15, 2021</td>\n",
       "    </tr>\n",
       "    <tr>\n",
       "      <th>745</th>\n",
       "      <td>41</td>\n",
       "      <td>41</td>\n",
       "      <td>Heather Aldret</td>\n",
       "      <td>52</td>\n",
       "      <td>Charleston, SC</td>\n",
       "      <td>Stay-at-Home Mom</td>\n",
       "      <td>4th</td>\n",
       "      <td>September 22, 2021</td>\n",
       "      <td>December 15, 2021</td>\n",
       "    </tr>\n",
       "    <tr>\n",
       "      <th>746</th>\n",
       "      <td>41</td>\n",
       "      <td>41</td>\n",
       "      <td>Alexander \"Xander\" Hastings</td>\n",
       "      <td>21</td>\n",
       "      <td>Chicago, IL</td>\n",
       "      <td>App Developer</td>\n",
       "      <td>2nd Runner-Up</td>\n",
       "      <td>September 22, 2021</td>\n",
       "      <td>December 15, 2021</td>\n",
       "    </tr>\n",
       "    <tr>\n",
       "      <th>747</th>\n",
       "      <td>41</td>\n",
       "      <td>41</td>\n",
       "      <td>Deshawn Radden</td>\n",
       "      <td>26</td>\n",
       "      <td>Miami, FL</td>\n",
       "      <td>Medical Student</td>\n",
       "      <td>Runner-Up</td>\n",
       "      <td>September 22, 2021</td>\n",
       "      <td>December 15, 2021</td>\n",
       "    </tr>\n",
       "    <tr>\n",
       "      <th>748</th>\n",
       "      <td>41</td>\n",
       "      <td>41</td>\n",
       "      <td>Erika Casupanan</td>\n",
       "      <td>32</td>\n",
       "      <td>Toronto, ON, Can.</td>\n",
       "      <td>Communications Manager</td>\n",
       "      <td>Winner</td>\n",
       "      <td>September 22, 2021</td>\n",
       "      <td>December 15, 2021</td>\n",
       "    </tr>\n",
       "  </tbody>\n",
       "</table>\n",
       "</div>"
      ],
      "text/plain": [
       "     Season Season Name                         Name Age           Hometown  \\\n",
       "731      41          41                 Eric Abraham  51    San Antonio, TX   \n",
       "732      41          41                  Sara Wilson  24         Boston, MA   \n",
       "733      41          41                   David Voce  35        Chicago, IL   \n",
       "734      41          41                   Brad Reese  50        Shawnee, WY   \n",
       "735      41          41         Jairus \"JD\" Robinson  20  Oklahoma City, OK   \n",
       "736      41          41                   Genie Chen  46       Portland, OR   \n",
       "737      41          41                 Sydney Segal  26       Brooklyn, NY   \n",
       "738      41          41                Tiffany Seely  47      Plainview, NY   \n",
       "739      41          41              Naseer Muttalif  37    Morgan Hill, CA   \n",
       "740      41          41        Evelyn \"Evvie\" Jagoda  28      Arlington, MA   \n",
       "741      41          41         Shantel \"Shan\" Smith  34     Washington, DC   \n",
       "742      41          41                Liana Wallace  20     Washington, DC   \n",
       "743      41          41                 Danny McCray  33         Frisco, TX   \n",
       "744      41          41                  Ricard Foyé  31  Sedro-Woolley, WA   \n",
       "745      41          41               Heather Aldret  52     Charleston, SC   \n",
       "746      41          41  Alexander \"Xander\" Hastings  21        Chicago, IL   \n",
       "747      41          41               Deshawn Radden  26          Miami, FL   \n",
       "748      41          41              Erika Casupanan  32  Toronto, ON, Can.   \n",
       "\n",
       "                 Profession         Finish     Premiering Date  \\\n",
       "731  Cyber Security Analyst           18th  September 22, 2021   \n",
       "732   Healthcare Consultant           17th  September 22, 2021   \n",
       "733            Neurosurgeon           16th  September 22, 2021   \n",
       "734                 Rancher           15th  September 22, 2021   \n",
       "735         College Student           14th  September 22, 2021   \n",
       "736           Grocery Clerk           13th  September 22, 2021   \n",
       "737             Law Student           12th  September 22, 2021   \n",
       "738                 Teacher           11th  September 22, 2021   \n",
       "739           Sales Manager           10th  September 22, 2021   \n",
       "740             PhD Student            9th  September 22, 2021   \n",
       "741                  Pastor            8th  September 22, 2021   \n",
       "742         College Student            7th  September 22, 2021   \n",
       "743           Ex-NFL Player            6th  September 22, 2021   \n",
       "744        Flight Attendant            5th  September 22, 2021   \n",
       "745        Stay-at-Home Mom            4th  September 22, 2021   \n",
       "746           App Developer  2nd Runner-Up  September 22, 2021   \n",
       "747         Medical Student      Runner-Up  September 22, 2021   \n",
       "748  Communications Manager         Winner  September 22, 2021   \n",
       "\n",
       "           Finale Date  \n",
       "731  December 15, 2021  \n",
       "732  December 15, 2021  \n",
       "733  December 15, 2021  \n",
       "734  December 15, 2021  \n",
       "735  December 15, 2021  \n",
       "736  December 15, 2021  \n",
       "737  December 15, 2021  \n",
       "738  December 15, 2021  \n",
       "739  December 15, 2021  \n",
       "740  December 15, 2021  \n",
       "741  December 15, 2021  \n",
       "742  December 15, 2021  \n",
       "743  December 15, 2021  \n",
       "744  December 15, 2021  \n",
       "745  December 15, 2021  \n",
       "746  December 15, 2021  \n",
       "747  December 15, 2021  \n",
       "748  December 15, 2021  "
      ]
     },
     "execution_count": 24,
     "metadata": {},
     "output_type": "execute_result"
    }
   ],
   "source": [
    "dfSurvivor_copy[dfSurvivor_copy['Season'].eq(41)]#.loc[17]['text']"
   ]
  },
  {
   "cell_type": "code",
   "execution_count": 25,
   "id": "697d1074",
   "metadata": {},
   "outputs": [],
   "source": [
    "def createText(x):\n",
    "    # JANE DOE is WINNER of survivor season 99 titled SURVIVOR-99,\n",
    "    # JANE DOE is 99 years old from MARS and works as ASTRONAUT.\n",
    "    # SEASON-99 titled SURVIVOR-99 was aired between JAN-99-9999 AND DEC-99-9999\n",
    "    text= \"\"\"{} {} of Survivor Season {} titled {}, \n",
    "    {} is {} years old from {} and works as {}. \n",
    "    Season {} titled {} aired during {} and {}\n",
    "    \"\"\"\n",
    "\n",
    "    text=text.format(x['Name'],\n",
    "                    str(x['Finish'])+ ' is ' if x['Finish']=='Winner' else ' finishes ' + str(x['Finish']),\n",
    "                    x['Season'],\n",
    "                    x['Season Name'],\n",
    "                    x['Name'],\n",
    "                    x['Age'],\n",
    "                    x['Hometown'],\n",
    "                    x['Profession'],\n",
    "                    x['Season'],\n",
    "                    x['Season Name'],\n",
    "                    x['Premiering Date'],\n",
    "                    x['Finale Date'],\n",
    "                   )\n",
    "    \n",
    "        \n",
    "    return text"
   ]
  },
  {
   "cell_type": "code",
   "execution_count": 26,
   "id": "ad97cd80",
   "metadata": {},
   "outputs": [
    {
     "name": "stdout",
     "output_type": "stream",
     "text": [
      "731    Eric Abraham  finishes 18th of Survivor Season...\n",
      "732    Sara Wilson  finishes 17th of Survivor Season ...\n",
      "733    David Voce  finishes 16th of Survivor Season 4...\n",
      "734    Brad Reese  finishes 15th of Survivor Season 4...\n",
      "735    Jairus \"JD\" Robinson  finishes 14th of Survivo...\n",
      "                             ...                        \n",
      "834    Ben Katzman  finishes TBA of Survivor Season 4...\n",
      "835    Charlie Davis  finishes None of Survivor Seaso...\n",
      "836    Kenzie Petty  finishes None of Survivor Season...\n",
      "837    Liz Wilcox  finishes None of Survivor Season 4...\n",
      "838    Maria Shrime Gonzalez  finishes None of Surviv...\n",
      "Length: 108, dtype: object\n"
     ]
    }
   ],
   "source": [
    "print(dfSurvivor_copy.apply(createText,axis=1) )"
   ]
  },
  {
   "cell_type": "code",
   "execution_count": 27,
   "id": "9c3e4f8b",
   "metadata": {},
   "outputs": [],
   "source": [
    "# # since the RAG requires a single column as TEXT, so we concatenate the columns for form a single descriptive description\n",
    "# # which will then be processed further with the openai\n",
    "\n",
    "\n",
    "# text = \"Season {} titled {} of Survivor, aired between {} and {}, contestent {} Aged {} from hometown {}, works as a {} and a  {} {}\"\n",
    "# dfSurvivor_copy['text'] = dfSurvivor_copy.apply(lambda x: text.format(\n",
    "#                                                         x['Season'],\n",
    "#                                                         x['Season Name'],\n",
    "#                                                         x['Premiering Date'],\n",
    "#                                                         x['Finale Date'],\n",
    "#                                                         x['Name'],\n",
    "#                                                         x['Age'],\n",
    "#                                                         x['Hometown'],\n",
    "#                                                         x['Profession'],\n",
    "#                                                         ('Winner of Survivor '+str(x['Season']) + ' ' + str(x['Season Name']) \n",
    "#                                                                   if x['Finish']=='Winner' \n",
    "#                                                                 else 'Ranked'),\n",
    "#                                                         x['Finish']\n",
    "#                                                         ),\n",
    "#                                                     axis=1\n",
    "#                                                                 )\n",
    "\n",
    "            "
   ]
  },
  {
   "cell_type": "code",
   "execution_count": 28,
   "id": "cd315a96",
   "metadata": {},
   "outputs": [],
   "source": [
    "# since the RAG requires a single column as TEXT, so we concatenate the columns for form a single descriptive description\n",
    "# which will then be processed further with the openai\n",
    "\n",
    "\n",
    "text = \"Season {} titled {} of Survivor, aired between {} and {}, contestent {} Aged {} from hometown {}, works as a {} and a  {} {}\"\n",
    "dfSurvivor_copy['text'] = dfSurvivor_copy.apply(createText, axis=1)\n",
    "\n",
    "            "
   ]
  },
  {
   "cell_type": "code",
   "execution_count": 29,
   "id": "ecd74546",
   "metadata": {},
   "outputs": [
    {
     "data": {
      "text/plain": [
       "'Sara Wilson  finishes 17th of Survivor Season 41 titled 41, \\n    Sara Wilson is 24 years old from Boston, MA and works as Healthcare Consultant. \\n    Season 41 titled 41 aired during September 22, 2021 and December 15, 2021\\n    '"
      ]
     },
     "execution_count": 29,
     "metadata": {},
     "output_type": "execute_result"
    }
   ],
   "source": [
    "dfSurvivor_copy[dfSurvivor_copy['Season'] == 41].loc[732]['text']"
   ]
  },
  {
   "cell_type": "code",
   "execution_count": 30,
   "id": "5eb769b6",
   "metadata": {},
   "outputs": [
    {
     "data": {
      "text/plain": [
       "Index(['Season', 'Season Name', 'Name', 'Age', 'Hometown', 'Profession',\n",
       "       'Finish', 'Premiering Date', 'Finale Date', 'text'],\n",
       "      dtype='object')"
      ]
     },
     "execution_count": 30,
     "metadata": {},
     "output_type": "execute_result"
    }
   ],
   "source": [
    "dfSurvivor_copy.columns"
   ]
  },
  {
   "cell_type": "markdown",
   "id": "4ae827f6",
   "metadata": {},
   "source": [
    "#### Saving the data for later use and so as not to scrape it everytime"
   ]
  },
  {
   "cell_type": "code",
   "execution_count": 31,
   "id": "cd9ced4f",
   "metadata": {},
   "outputs": [],
   "source": [
    "dfSurvivor.to_csv('Survivor_data.csv')\n",
    "dfSurvivor_copy.to_csv('Survivor_data_41_onward.csv')"
   ]
  },
  {
   "cell_type": "code",
   "execution_count": null,
   "id": "813780b2",
   "metadata": {},
   "outputs": [],
   "source": []
  },
  {
   "cell_type": "code",
   "execution_count": 90,
   "id": "8b619ea3",
   "metadata": {},
   "outputs": [
    {
     "data": {
      "text/html": [
       "<div>\n",
       "<style scoped>\n",
       "    .dataframe tbody tr th:only-of-type {\n",
       "        vertical-align: middle;\n",
       "    }\n",
       "\n",
       "    .dataframe tbody tr th {\n",
       "        vertical-align: top;\n",
       "    }\n",
       "\n",
       "    .dataframe thead th {\n",
       "        text-align: right;\n",
       "    }\n",
       "</style>\n",
       "<table border=\"1\" class=\"dataframe\">\n",
       "  <thead>\n",
       "    <tr style=\"text-align: right;\">\n",
       "      <th></th>\n",
       "      <th>Unnamed: 0.1</th>\n",
       "      <th>Unnamed: 0</th>\n",
       "      <th>Season</th>\n",
       "      <th>Season Name</th>\n",
       "      <th>Name</th>\n",
       "      <th>Age</th>\n",
       "      <th>Hometown</th>\n",
       "      <th>Profession</th>\n",
       "      <th>Finish</th>\n",
       "      <th>Premiering Date</th>\n",
       "      <th>Finale Date</th>\n",
       "      <th>text</th>\n",
       "    </tr>\n",
       "  </thead>\n",
       "  <tbody>\n",
       "    <tr>\n",
       "      <th>0</th>\n",
       "      <td>0</td>\n",
       "      <td>731</td>\n",
       "      <td>41</td>\n",
       "      <td>41</td>\n",
       "      <td>Eric Abraham</td>\n",
       "      <td>51</td>\n",
       "      <td>San Antonio, TX</td>\n",
       "      <td>Cyber Security Analyst</td>\n",
       "      <td>18th</td>\n",
       "      <td>2021-09-22</td>\n",
       "      <td>2021-12-15</td>\n",
       "      <td>Season 41 titled 41 of Survivor, aired between...</td>\n",
       "    </tr>\n",
       "    <tr>\n",
       "      <th>1</th>\n",
       "      <td>1</td>\n",
       "      <td>732</td>\n",
       "      <td>41</td>\n",
       "      <td>41</td>\n",
       "      <td>Sara Wilson</td>\n",
       "      <td>24</td>\n",
       "      <td>Boston, MA</td>\n",
       "      <td>Healthcare Consultant</td>\n",
       "      <td>17th</td>\n",
       "      <td>2021-09-22</td>\n",
       "      <td>2021-12-15</td>\n",
       "      <td>Season 41 titled 41 of Survivor, aired between...</td>\n",
       "    </tr>\n",
       "    <tr>\n",
       "      <th>2</th>\n",
       "      <td>2</td>\n",
       "      <td>733</td>\n",
       "      <td>41</td>\n",
       "      <td>41</td>\n",
       "      <td>David Voce</td>\n",
       "      <td>35</td>\n",
       "      <td>Chicago, IL</td>\n",
       "      <td>Neurosurgeon</td>\n",
       "      <td>16th</td>\n",
       "      <td>2021-09-22</td>\n",
       "      <td>2021-12-15</td>\n",
       "      <td>Season 41 titled 41 of Survivor, aired between...</td>\n",
       "    </tr>\n",
       "    <tr>\n",
       "      <th>3</th>\n",
       "      <td>3</td>\n",
       "      <td>734</td>\n",
       "      <td>41</td>\n",
       "      <td>41</td>\n",
       "      <td>Brad Reese</td>\n",
       "      <td>50</td>\n",
       "      <td>Shawnee, WY</td>\n",
       "      <td>Rancher</td>\n",
       "      <td>15th</td>\n",
       "      <td>2021-09-22</td>\n",
       "      <td>2021-12-15</td>\n",
       "      <td>Season 41 titled 41 of Survivor, aired between...</td>\n",
       "    </tr>\n",
       "    <tr>\n",
       "      <th>4</th>\n",
       "      <td>4</td>\n",
       "      <td>735</td>\n",
       "      <td>41</td>\n",
       "      <td>41</td>\n",
       "      <td>Jairus \"JD\" Robinson</td>\n",
       "      <td>20</td>\n",
       "      <td>Oklahoma City, OK</td>\n",
       "      <td>College Student</td>\n",
       "      <td>14th</td>\n",
       "      <td>2021-09-22</td>\n",
       "      <td>2021-12-15</td>\n",
       "      <td>Season 41 titled 41 of Survivor, aired between...</td>\n",
       "    </tr>\n",
       "  </tbody>\n",
       "</table>\n",
       "</div>"
      ],
      "text/plain": [
       "   Unnamed: 0.1  Unnamed: 0  Season  Season Name                  Name  Age  \\\n",
       "0             0         731      41           41          Eric Abraham   51   \n",
       "1             1         732      41           41           Sara Wilson   24   \n",
       "2             2         733      41           41            David Voce   35   \n",
       "3             3         734      41           41            Brad Reese   50   \n",
       "4             4         735      41           41  Jairus \"JD\" Robinson   20   \n",
       "\n",
       "            Hometown              Profession Finish Premiering Date  \\\n",
       "0    San Antonio, TX  Cyber Security Analyst   18th      2021-09-22   \n",
       "1         Boston, MA   Healthcare Consultant   17th      2021-09-22   \n",
       "2        Chicago, IL            Neurosurgeon   16th      2021-09-22   \n",
       "3        Shawnee, WY                 Rancher   15th      2021-09-22   \n",
       "4  Oklahoma City, OK         College Student   14th      2021-09-22   \n",
       "\n",
       "  Finale Date                                               text  \n",
       "0  2021-12-15  Season 41 titled 41 of Survivor, aired between...  \n",
       "1  2021-12-15  Season 41 titled 41 of Survivor, aired between...  \n",
       "2  2021-12-15  Season 41 titled 41 of Survivor, aired between...  \n",
       "3  2021-12-15  Season 41 titled 41 of Survivor, aired between...  \n",
       "4  2021-12-15  Season 41 titled 41 of Survivor, aired between...  "
      ]
     },
     "execution_count": 90,
     "metadata": {},
     "output_type": "execute_result"
    }
   ],
   "source": [
    "dfSurvivor_copy = pd.read_csv('Survivor_data_41_onward.csv')\n",
    "dfSurvivor_copy.head()"
   ]
  },
  {
   "cell_type": "markdown",
   "id": "5eb2bc39",
   "metadata": {},
   "source": [
    "## Inspect the non-customized results"
   ]
  },
  {
   "cell_type": "code",
   "execution_count": 91,
   "id": "70c34a25",
   "metadata": {},
   "outputs": [],
   "source": [
    "import openai\n",
    "import getpass # using getpass to keep the key secret\n",
    "\n",
    "COMPLETION_MODEL_NAME = \"gpt-3.5-turbo-instruct\""
   ]
  },
  {
   "cell_type": "code",
   "execution_count": 92,
   "id": "67579772",
   "metadata": {},
   "outputs": [
    {
     "name": "stdout",
     "output_type": "stream",
     "text": [
      "Enter openAPI key········\n"
     ]
    }
   ],
   "source": [
    "api_key = getpass.getpass(\"Enter openAPI key\")\n",
    "openai.api_key = api_key # \"YOUR API KEY\""
   ]
  },
  {
   "cell_type": "code",
   "execution_count": 93,
   "id": "7a9cd54c",
   "metadata": {},
   "outputs": [],
   "source": [
    "model = \"gpt-3.5-turbo-instruct\"\n",
    "prompt = \"\"\n",
    "max_tokens = 150"
   ]
  },
  {
   "cell_type": "code",
   "execution_count": 94,
   "id": "3ddd6da3",
   "metadata": {},
   "outputs": [],
   "source": [
    "\n",
    "\n",
    "def get_AI_response(model, prompt, max_tokens):\n",
    "    \n",
    "    \"\"\"\n",
    "    Returns the openai response.\n",
    "    this also enables to use a different provider, if one so chooses\n",
    "    \n",
    "    ARGUMENTS:\n",
    "    model      : LLM model, must be among the ones supported by the service used\n",
    "    prompt     : prompt (question) for the model to respond\n",
    "    max_tokens : Maximum number of tokens to return\n",
    "    \"\"\"\n",
    "    \n",
    "    openai_response  = openai.Completion.create(\n",
    "        model     = model,\n",
    "        prompt    = prompt,\n",
    "        max_tokens= max_tokens\n",
    "    )[\"choices\"][0][\"text\"].strip()\n",
    "    \n",
    "    return openai_response"
   ]
  },
  {
   "cell_type": "code",
   "execution_count": null,
   "id": "393e5e68",
   "metadata": {},
   "outputs": [],
   "source": []
  },
  {
   "cell_type": "markdown",
   "id": "2a55dd63",
   "metadata": {},
   "source": [
    "### reviewing the model response prior to adding newer data to the prompt as context\n"
   ]
  },
  {
   "cell_type": "code",
   "execution_count": 139,
   "id": "d3292d92",
   "metadata": {},
   "outputs": [],
   "source": [
    "question_latest_season    = \"What is the latest season of survivor USA?\"\n",
    "question_season_42_winner = \"who won the Season 42 of the Survivor USA?\"\n",
    "question_season_44_runnerup = \"who was the runner-up of season 44 of Survivor USA?\""
   ]
  },
  {
   "cell_type": "code",
   "execution_count": 128,
   "id": "74361707",
   "metadata": {},
   "outputs": [
    {
     "name": "stdout",
     "output_type": "stream",
     "text": [
      "The latest season of Survivor USA is season 40, titled \"Winners at War.\" It aired in early 2020.\n"
     ]
    }
   ],
   "source": [
    "prompt_latest_season = \"\"\"\n",
    "Question: {}\n",
    "Answer:\n",
    "\"\"\".format(question_latest_season)\n",
    "\n",
    "prompt_latest_season_answer = get_AI_response( model, \n",
    "                                                    prompt_latest_season, \n",
    "                                                    max_tokens)\n",
    "print(prompt_latest_season_answer)"
   ]
  },
  {
   "cell_type": "code",
   "execution_count": 129,
   "id": "3fced327",
   "metadata": {},
   "outputs": [
    {
     "name": "stdout",
     "output_type": "stream",
     "text": [
      "As of October 2021, the latest season of Survivor USA is Survivor: Island of the Idols, which aired in Fall 2019. The 41st season, Survivor: Winners at War, aired in Spring 2020.\n"
     ]
    }
   ],
   "source": [
    "prompt_season_42_winner = \"\"\"\n",
    "Question: {}\n",
    "Answer:\n",
    "\"\"\".format(question_season_42_winner)\n",
    "\n",
    "prompt_season_42_winner_answer = get_AI_response( model, \n",
    "                                                    prompt_latest_season, \n",
    "                                                    max_tokens)\n",
    "print(prompt_season_42_winner_answer)"
   ]
  },
  {
   "cell_type": "code",
   "execution_count": 130,
   "id": "f6a81090",
   "metadata": {},
   "outputs": [
    {
     "name": "stdout",
     "output_type": "stream",
     "text": [
      "As of September 2021, the latest season of Survivor USA is Season 41, which is set to premiere on September 22nd, 2021 on CBS.\n"
     ]
    }
   ],
   "source": [
    "prompt_season_44_runnerup = \"\"\"\n",
    "Question: {}\n",
    "Answer:\n",
    "\"\"\".format(question_season_44_runnerup)\n",
    "\n",
    "prompt_season_44_runnerup_answer = get_AI_response( model, \n",
    "                                                    prompt_latest_season, \n",
    "                                                    max_tokens)\n",
    "print(prompt_season_44_runnerup_answer)"
   ]
  },
  {
   "cell_type": "code",
   "execution_count": null,
   "id": "c10b6aac",
   "metadata": {},
   "outputs": [],
   "source": []
  },
  {
   "cell_type": "markdown",
   "id": "ae769871",
   "metadata": {},
   "source": [
    "## Custom Query Completion\n",
    "\n",
    "TODO: In the cells below, compose a custom query using your chosen dataset and retrieve results from an OpenAI `Completion` model. You may copy and paste any useful code from the course materials."
   ]
  },
  {
   "cell_type": "markdown",
   "id": "1f53c369",
   "metadata": {},
   "source": [
    "### Generating embeddings\n",
    "\n",
    "We'll use the Embedding tooling from OpenAI documentation here to create vectors representing each row of our custom dataset.\n",
    "\n",
    "In order to avoid a RateLimitError we'll send our data in batches to the Embedding.create function.\n"
   ]
  },
  {
   "cell_type": "code",
   "execution_count": 98,
   "id": "78184c4a",
   "metadata": {},
   "outputs": [],
   "source": [
    "EMBEDDING_MODEL_NAME = \"text-embedding-ada-002\""
   ]
  },
  {
   "cell_type": "code",
   "execution_count": 99,
   "id": "582f0656",
   "metadata": {},
   "outputs": [
    {
     "data": {
      "text/html": [
       "<div>\n",
       "<style scoped>\n",
       "    .dataframe tbody tr th:only-of-type {\n",
       "        vertical-align: middle;\n",
       "    }\n",
       "\n",
       "    .dataframe tbody tr th {\n",
       "        vertical-align: top;\n",
       "    }\n",
       "\n",
       "    .dataframe thead th {\n",
       "        text-align: right;\n",
       "    }\n",
       "</style>\n",
       "<table border=\"1\" class=\"dataframe\">\n",
       "  <thead>\n",
       "    <tr style=\"text-align: right;\">\n",
       "      <th></th>\n",
       "      <th>Unnamed: 0.1</th>\n",
       "      <th>Unnamed: 0</th>\n",
       "      <th>Season</th>\n",
       "      <th>Season Name</th>\n",
       "      <th>Name</th>\n",
       "      <th>Age</th>\n",
       "      <th>Hometown</th>\n",
       "      <th>Profession</th>\n",
       "      <th>Finish</th>\n",
       "      <th>Premiering Date</th>\n",
       "      <th>Finale Date</th>\n",
       "      <th>text</th>\n",
       "      <th>embeddings</th>\n",
       "    </tr>\n",
       "  </thead>\n",
       "  <tbody>\n",
       "    <tr>\n",
       "      <th>0</th>\n",
       "      <td>0</td>\n",
       "      <td>731</td>\n",
       "      <td>41</td>\n",
       "      <td>41</td>\n",
       "      <td>Eric Abraham</td>\n",
       "      <td>51</td>\n",
       "      <td>San Antonio, TX</td>\n",
       "      <td>Cyber Security Analyst</td>\n",
       "      <td>18th</td>\n",
       "      <td>2021-09-22</td>\n",
       "      <td>2021-12-15</td>\n",
       "      <td>Season 41 titled 41 of Survivor, aired between...</td>\n",
       "      <td>[0.0009507008944638073, -0.030369749292731285,...</td>\n",
       "    </tr>\n",
       "    <tr>\n",
       "      <th>1</th>\n",
       "      <td>1</td>\n",
       "      <td>732</td>\n",
       "      <td>41</td>\n",
       "      <td>41</td>\n",
       "      <td>Sara Wilson</td>\n",
       "      <td>24</td>\n",
       "      <td>Boston, MA</td>\n",
       "      <td>Healthcare Consultant</td>\n",
       "      <td>17th</td>\n",
       "      <td>2021-09-22</td>\n",
       "      <td>2021-12-15</td>\n",
       "      <td>Season 41 titled 41 of Survivor, aired between...</td>\n",
       "      <td>[0.012535907328128815, -0.008541460148990154, ...</td>\n",
       "    </tr>\n",
       "    <tr>\n",
       "      <th>2</th>\n",
       "      <td>2</td>\n",
       "      <td>733</td>\n",
       "      <td>41</td>\n",
       "      <td>41</td>\n",
       "      <td>David Voce</td>\n",
       "      <td>35</td>\n",
       "      <td>Chicago, IL</td>\n",
       "      <td>Neurosurgeon</td>\n",
       "      <td>16th</td>\n",
       "      <td>2021-09-22</td>\n",
       "      <td>2021-12-15</td>\n",
       "      <td>Season 41 titled 41 of Survivor, aired between...</td>\n",
       "      <td>[-0.01699759252369404, -0.01152073871344328, 0...</td>\n",
       "    </tr>\n",
       "    <tr>\n",
       "      <th>3</th>\n",
       "      <td>3</td>\n",
       "      <td>734</td>\n",
       "      <td>41</td>\n",
       "      <td>41</td>\n",
       "      <td>Brad Reese</td>\n",
       "      <td>50</td>\n",
       "      <td>Shawnee, WY</td>\n",
       "      <td>Rancher</td>\n",
       "      <td>15th</td>\n",
       "      <td>2021-09-22</td>\n",
       "      <td>2021-12-15</td>\n",
       "      <td>Season 41 titled 41 of Survivor, aired between...</td>\n",
       "      <td>[-0.011191071011126041, -0.019860779866576195,...</td>\n",
       "    </tr>\n",
       "    <tr>\n",
       "      <th>4</th>\n",
       "      <td>4</td>\n",
       "      <td>735</td>\n",
       "      <td>41</td>\n",
       "      <td>41</td>\n",
       "      <td>Jairus \"JD\" Robinson</td>\n",
       "      <td>20</td>\n",
       "      <td>Oklahoma City, OK</td>\n",
       "      <td>College Student</td>\n",
       "      <td>14th</td>\n",
       "      <td>2021-09-22</td>\n",
       "      <td>2021-12-15</td>\n",
       "      <td>Season 41 titled 41 of Survivor, aired between...</td>\n",
       "      <td>[-0.012426728382706642, -0.02102375216782093, ...</td>\n",
       "    </tr>\n",
       "  </tbody>\n",
       "</table>\n",
       "</div>"
      ],
      "text/plain": [
       "   Unnamed: 0.1  Unnamed: 0  Season  Season Name                  Name  Age  \\\n",
       "0             0         731      41           41          Eric Abraham   51   \n",
       "1             1         732      41           41           Sara Wilson   24   \n",
       "2             2         733      41           41            David Voce   35   \n",
       "3             3         734      41           41            Brad Reese   50   \n",
       "4             4         735      41           41  Jairus \"JD\" Robinson   20   \n",
       "\n",
       "            Hometown              Profession Finish Premiering Date  \\\n",
       "0    San Antonio, TX  Cyber Security Analyst   18th      2021-09-22   \n",
       "1         Boston, MA   Healthcare Consultant   17th      2021-09-22   \n",
       "2        Chicago, IL            Neurosurgeon   16th      2021-09-22   \n",
       "3        Shawnee, WY                 Rancher   15th      2021-09-22   \n",
       "4  Oklahoma City, OK         College Student   14th      2021-09-22   \n",
       "\n",
       "  Finale Date                                               text  \\\n",
       "0  2021-12-15  Season 41 titled 41 of Survivor, aired between...   \n",
       "1  2021-12-15  Season 41 titled 41 of Survivor, aired between...   \n",
       "2  2021-12-15  Season 41 titled 41 of Survivor, aired between...   \n",
       "3  2021-12-15  Season 41 titled 41 of Survivor, aired between...   \n",
       "4  2021-12-15  Season 41 titled 41 of Survivor, aired between...   \n",
       "\n",
       "                                          embeddings  \n",
       "0  [0.0009507008944638073, -0.030369749292731285,...  \n",
       "1  [0.012535907328128815, -0.008541460148990154, ...  \n",
       "2  [-0.01699759252369404, -0.01152073871344328, 0...  \n",
       "3  [-0.011191071011126041, -0.019860779866576195,...  \n",
       "4  [-0.012426728382706642, -0.02102375216782093, ...  "
      ]
     },
     "execution_count": 99,
     "metadata": {},
     "output_type": "execute_result"
    }
   ],
   "source": [
    "batch_size = 100\n",
    "embeddings = []\n",
    "for i in range(0, len(dfSurvivor_copy), batch_size):\n",
    "    # Send text data to OpenAI model to get embeddings\n",
    "    response = openai.Embedding.create(\n",
    "        input=dfSurvivor_copy.iloc[i:i+batch_size][\"text\"].tolist(),\n",
    "        engine=EMBEDDING_MODEL_NAME\n",
    "    )\n",
    "    \n",
    "    # Add embeddings to list\n",
    "    embeddings.extend([data[\"embedding\"] for data in response[\"data\"]])\n",
    "\n",
    "# Add embeddings list to dataframe\n",
    "dfSurvivor_copy[\"embeddings\"] = embeddings\n",
    "dfSurvivor_copy.head()"
   ]
  },
  {
   "cell_type": "code",
   "execution_count": 100,
   "id": "7279fd96",
   "metadata": {},
   "outputs": [],
   "source": [
    "dfSurvivor_copy.to_csv(\"embeddings.csv\")\n",
    "\n",
    "df = dfSurvivor_copy[['text', 'embeddings']].copy()"
   ]
  },
  {
   "cell_type": "code",
   "execution_count": 101,
   "id": "b4870dc1",
   "metadata": {},
   "outputs": [],
   "source": [
    "# dfSurvivor_copy = pd.read_csv(\"embeddings.csv\")\n",
    "# # dfSurvivor_copy.head()"
   ]
  },
  {
   "cell_type": "code",
   "execution_count": 102,
   "id": "6baa29d7",
   "metadata": {},
   "outputs": [],
   "source": [
    "# import numpy as np\n",
    "\n",
    "# df = dfSurvivor_copy[['text', 'embeddings']].copy()\n",
    "# df[\"embeddings\"] = df[\"embeddings\"].apply(eval).apply(np.array)"
   ]
  },
  {
   "cell_type": "code",
   "execution_count": 103,
   "id": "dac133e5",
   "metadata": {},
   "outputs": [
    {
     "data": {
      "text/plain": [
       "108"
      ]
     },
     "execution_count": 103,
     "metadata": {},
     "output_type": "execute_result"
    }
   ],
   "source": [
    "len(dfSurvivor_copy)"
   ]
  },
  {
   "cell_type": "markdown",
   "id": "77378552",
   "metadata": {},
   "source": [
    "\n",
    "### Step 2: Create a Function that Finds Related Pieces of Text for a Given Question\n",
    "\n",
    "What we are implementing here is similar to a search engine or recommendation algorithm. We want to sort all of the rows of our dataset from least relevant to most relevant.\n",
    "\n",
    "This will use the embeddings that we generated previously in order to compare the vectorized version of our question to the vectorized versions of the rows of the dataset.\n"
   ]
  },
  {
   "cell_type": "code",
   "execution_count": 104,
   "id": "8b6e1f75",
   "metadata": {},
   "outputs": [],
   "source": [
    "from openai.embeddings_utils import get_embedding, distances_from_embeddings\n",
    "\n",
    "def get_rows_sorted_by_relevance(question, df):\n",
    "    \"\"\"\n",
    "    Function that takes in a question string and a dataframe containing\n",
    "    rows of text and associated embeddings, and returns that dataframe\n",
    "    sorted from least to most relevant for that question\n",
    "    \"\"\"\n",
    "    \n",
    "    # Get embeddings for the question text\n",
    "    question_embeddings = get_embedding(question, engine=EMBEDDING_MODEL_NAME)\n",
    "    \n",
    "    # Make a copy of the dataframe and add a \"distances\" column containing\n",
    "    # the cosine distances between each row's embeddings and the\n",
    "    # embeddings of the question\n",
    "    df_copy = df.copy()\n",
    "    df_copy[\"distances\"] = distances_from_embeddings(\n",
    "        question_embeddings,\n",
    "        df_copy[\"embeddings\"].values,\n",
    "        distance_metric=\"cosine\"\n",
    "    )\n",
    "    \n",
    "    # Sort the copied dataframe by the distances and return it\n",
    "    # (shorter distance = more relevant so we sort in ascending order)\n",
    "    df_copy.sort_values(\"distances\", ascending=True, inplace=True)\n",
    "    return df_copy"
   ]
  },
  {
   "cell_type": "code",
   "execution_count": 141,
   "id": "4169c25b",
   "metadata": {},
   "outputs": [
    {
     "data": {
      "text/plain": [
       "'who won the Season 42 of the Survivor USA?'"
      ]
     },
     "execution_count": 141,
     "metadata": {},
     "output_type": "execute_result"
    }
   ],
   "source": [
    "question_season_42_winner"
   ]
  },
  {
   "cell_type": "code",
   "execution_count": 140,
   "id": "13f2dcd7",
   "metadata": {},
   "outputs": [
    {
     "data": {
      "text/html": [
       "<div>\n",
       "<style scoped>\n",
       "    .dataframe tbody tr th:only-of-type {\n",
       "        vertical-align: middle;\n",
       "    }\n",
       "\n",
       "    .dataframe tbody tr th {\n",
       "        vertical-align: top;\n",
       "    }\n",
       "\n",
       "    .dataframe thead th {\n",
       "        text-align: right;\n",
       "    }\n",
       "</style>\n",
       "<table border=\"1\" class=\"dataframe\">\n",
       "  <thead>\n",
       "    <tr style=\"text-align: right;\">\n",
       "      <th></th>\n",
       "      <th>text</th>\n",
       "      <th>embeddings</th>\n",
       "      <th>distances</th>\n",
       "    </tr>\n",
       "  </thead>\n",
       "  <tbody>\n",
       "    <tr>\n",
       "      <th>69</th>\n",
       "      <td>Season 44 titled 44 of Survivor, aired between...</td>\n",
       "      <td>[0.0011320209596306086, -0.018356913700699806,...</td>\n",
       "      <td>0.142343</td>\n",
       "    </tr>\n",
       "    <tr>\n",
       "      <th>70</th>\n",
       "      <td>Season 44 titled 44 of Survivor, aired between...</td>\n",
       "      <td>[-0.0032948569860309362, -0.019257549196481705...</td>\n",
       "      <td>0.143621</td>\n",
       "    </tr>\n",
       "    <tr>\n",
       "      <th>52</th>\n",
       "      <td>Season 43 titled 43 of Survivor, aired between...</td>\n",
       "      <td>[-0.007554784417152405, -0.010118015110492706,...</td>\n",
       "      <td>0.144845</td>\n",
       "    </tr>\n",
       "    <tr>\n",
       "      <th>87</th>\n",
       "      <td>Season 45 titled 45 of Survivor, aired between...</td>\n",
       "      <td>[-0.006924946792423725, -0.022197775542736053,...</td>\n",
       "      <td>0.145605</td>\n",
       "    </tr>\n",
       "    <tr>\n",
       "      <th>27</th>\n",
       "      <td>Season 42 titled 42 of Survivor, aired between...</td>\n",
       "      <td>[-0.02053735964000225, -0.03299356997013092, -...</td>\n",
       "      <td>0.146603</td>\n",
       "    </tr>\n",
       "    <tr>\n",
       "      <th>...</th>\n",
       "      <td>...</td>\n",
       "      <td>...</td>\n",
       "      <td>...</td>\n",
       "    </tr>\n",
       "    <tr>\n",
       "      <th>90</th>\n",
       "      <td>Season 46 titled 46 of Survivor, aired between...</td>\n",
       "      <td>[-0.026984089985489845, -0.030671605840325356,...</td>\n",
       "      <td>0.168511</td>\n",
       "    </tr>\n",
       "    <tr>\n",
       "      <th>97</th>\n",
       "      <td>Season 46 titled 46 of Survivor, aired between...</td>\n",
       "      <td>[0.0030906544998288155, -0.016236059367656708,...</td>\n",
       "      <td>0.172134</td>\n",
       "    </tr>\n",
       "    <tr>\n",
       "      <th>103</th>\n",
       "      <td>Season 46 titled 46 of Survivor, aired between...</td>\n",
       "      <td>[-0.007374738343060017, -0.014268365688621998,...</td>\n",
       "      <td>0.173293</td>\n",
       "    </tr>\n",
       "    <tr>\n",
       "      <th>105</th>\n",
       "      <td>Season 46 titled 46 of Survivor, aired between...</td>\n",
       "      <td>[-0.013762668706476688, -0.02342640981078148, ...</td>\n",
       "      <td>0.173542</td>\n",
       "    </tr>\n",
       "    <tr>\n",
       "      <th>106</th>\n",
       "      <td>Season 46 titled 46 of Survivor, aired between...</td>\n",
       "      <td>[-0.03036060929298401, -0.020625118166208267, ...</td>\n",
       "      <td>0.175737</td>\n",
       "    </tr>\n",
       "  </tbody>\n",
       "</table>\n",
       "<p>108 rows × 3 columns</p>\n",
       "</div>"
      ],
      "text/plain": [
       "                                                  text  \\\n",
       "69   Season 44 titled 44 of Survivor, aired between...   \n",
       "70   Season 44 titled 44 of Survivor, aired between...   \n",
       "52   Season 43 titled 43 of Survivor, aired between...   \n",
       "87   Season 45 titled 45 of Survivor, aired between...   \n",
       "27   Season 42 titled 42 of Survivor, aired between...   \n",
       "..                                                 ...   \n",
       "90   Season 46 titled 46 of Survivor, aired between...   \n",
       "97   Season 46 titled 46 of Survivor, aired between...   \n",
       "103  Season 46 titled 46 of Survivor, aired between...   \n",
       "105  Season 46 titled 46 of Survivor, aired between...   \n",
       "106  Season 46 titled 46 of Survivor, aired between...   \n",
       "\n",
       "                                            embeddings  distances  \n",
       "69   [0.0011320209596306086, -0.018356913700699806,...   0.142343  \n",
       "70   [-0.0032948569860309362, -0.019257549196481705...   0.143621  \n",
       "52   [-0.007554784417152405, -0.010118015110492706,...   0.144845  \n",
       "87   [-0.006924946792423725, -0.022197775542736053,...   0.145605  \n",
       "27   [-0.02053735964000225, -0.03299356997013092, -...   0.146603  \n",
       "..                                                 ...        ...  \n",
       "90   [-0.026984089985489845, -0.030671605840325356,...   0.168511  \n",
       "97   [0.0030906544998288155, -0.016236059367656708,...   0.172134  \n",
       "103  [-0.007374738343060017, -0.014268365688621998,...   0.173293  \n",
       "105  [-0.013762668706476688, -0.02342640981078148, ...   0.173542  \n",
       "106  [-0.03036060929298401, -0.020625118166208267, ...   0.175737  \n",
       "\n",
       "[108 rows x 3 columns]"
      ]
     },
     "execution_count": 140,
     "metadata": {},
     "output_type": "execute_result"
    }
   ],
   "source": [
    "get_rows_sorted_by_relevance(question_season_42_winner, df)"
   ]
  },
  {
   "cell_type": "code",
   "execution_count": 106,
   "id": "c403f543",
   "metadata": {},
   "outputs": [
    {
     "data": {
      "text/html": [
       "<div>\n",
       "<style scoped>\n",
       "    .dataframe tbody tr th:only-of-type {\n",
       "        vertical-align: middle;\n",
       "    }\n",
       "\n",
       "    .dataframe tbody tr th {\n",
       "        vertical-align: top;\n",
       "    }\n",
       "\n",
       "    .dataframe thead th {\n",
       "        text-align: right;\n",
       "    }\n",
       "</style>\n",
       "<table border=\"1\" class=\"dataframe\">\n",
       "  <thead>\n",
       "    <tr style=\"text-align: right;\">\n",
       "      <th></th>\n",
       "      <th>text</th>\n",
       "      <th>embeddings</th>\n",
       "      <th>distances</th>\n",
       "    </tr>\n",
       "  </thead>\n",
       "  <tbody>\n",
       "    <tr>\n",
       "      <th>69</th>\n",
       "      <td>Season 44 titled 44 of Survivor, aired between...</td>\n",
       "      <td>[0.0011320209596306086, -0.018356913700699806,...</td>\n",
       "      <td>0.138757</td>\n",
       "    </tr>\n",
       "    <tr>\n",
       "      <th>70</th>\n",
       "      <td>Season 44 titled 44 of Survivor, aired between...</td>\n",
       "      <td>[-0.0032948569860309362, -0.019257549196481705...</td>\n",
       "      <td>0.140265</td>\n",
       "    </tr>\n",
       "    <tr>\n",
       "      <th>52</th>\n",
       "      <td>Season 43 titled 43 of Survivor, aired between...</td>\n",
       "      <td>[-0.007554784417152405, -0.010118015110492706,...</td>\n",
       "      <td>0.142574</td>\n",
       "    </tr>\n",
       "    <tr>\n",
       "      <th>87</th>\n",
       "      <td>Season 45 titled 45 of Survivor, aired between...</td>\n",
       "      <td>[-0.006924946792423725, -0.022197775542736053,...</td>\n",
       "      <td>0.144139</td>\n",
       "    </tr>\n",
       "    <tr>\n",
       "      <th>27</th>\n",
       "      <td>Season 42 titled 42 of Survivor, aired between...</td>\n",
       "      <td>[-0.02053735964000225, -0.03299356997013092, -...</td>\n",
       "      <td>0.145049</td>\n",
       "    </tr>\n",
       "    <tr>\n",
       "      <th>...</th>\n",
       "      <td>...</td>\n",
       "      <td>...</td>\n",
       "      <td>...</td>\n",
       "    </tr>\n",
       "    <tr>\n",
       "      <th>90</th>\n",
       "      <td>Season 46 titled 46 of Survivor, aired between...</td>\n",
       "      <td>[-0.026984089985489845, -0.030671605840325356,...</td>\n",
       "      <td>0.168694</td>\n",
       "    </tr>\n",
       "    <tr>\n",
       "      <th>103</th>\n",
       "      <td>Season 46 titled 46 of Survivor, aired between...</td>\n",
       "      <td>[-0.007374738343060017, -0.014268365688621998,...</td>\n",
       "      <td>0.172188</td>\n",
       "    </tr>\n",
       "    <tr>\n",
       "      <th>97</th>\n",
       "      <td>Season 46 titled 46 of Survivor, aired between...</td>\n",
       "      <td>[0.0030906544998288155, -0.016236059367656708,...</td>\n",
       "      <td>0.173472</td>\n",
       "    </tr>\n",
       "    <tr>\n",
       "      <th>106</th>\n",
       "      <td>Season 46 titled 46 of Survivor, aired between...</td>\n",
       "      <td>[-0.03036060929298401, -0.020625118166208267, ...</td>\n",
       "      <td>0.173643</td>\n",
       "    </tr>\n",
       "    <tr>\n",
       "      <th>105</th>\n",
       "      <td>Season 46 titled 46 of Survivor, aired between...</td>\n",
       "      <td>[-0.013762668706476688, -0.02342640981078148, ...</td>\n",
       "      <td>0.174100</td>\n",
       "    </tr>\n",
       "  </tbody>\n",
       "</table>\n",
       "<p>108 rows × 3 columns</p>\n",
       "</div>"
      ],
      "text/plain": [
       "                                                  text  \\\n",
       "69   Season 44 titled 44 of Survivor, aired between...   \n",
       "70   Season 44 titled 44 of Survivor, aired between...   \n",
       "52   Season 43 titled 43 of Survivor, aired between...   \n",
       "87   Season 45 titled 45 of Survivor, aired between...   \n",
       "27   Season 42 titled 42 of Survivor, aired between...   \n",
       "..                                                 ...   \n",
       "90   Season 46 titled 46 of Survivor, aired between...   \n",
       "103  Season 46 titled 46 of Survivor, aired between...   \n",
       "97   Season 46 titled 46 of Survivor, aired between...   \n",
       "106  Season 46 titled 46 of Survivor, aired between...   \n",
       "105  Season 46 titled 46 of Survivor, aired between...   \n",
       "\n",
       "                                            embeddings  distances  \n",
       "69   [0.0011320209596306086, -0.018356913700699806,...   0.138757  \n",
       "70   [-0.0032948569860309362, -0.019257549196481705...   0.140265  \n",
       "52   [-0.007554784417152405, -0.010118015110492706,...   0.142574  \n",
       "87   [-0.006924946792423725, -0.022197775542736053,...   0.144139  \n",
       "27   [-0.02053735964000225, -0.03299356997013092, -...   0.145049  \n",
       "..                                                 ...        ...  \n",
       "90   [-0.026984089985489845, -0.030671605840325356,...   0.168694  \n",
       "103  [-0.007374738343060017, -0.014268365688621998,...   0.172188  \n",
       "97   [0.0030906544998288155, -0.016236059367656708,...   0.173472  \n",
       "106  [-0.03036060929298401, -0.020625118166208267, ...   0.173643  \n",
       "105  [-0.013762668706476688, -0.02342640981078148, ...   0.174100  \n",
       "\n",
       "[108 rows x 3 columns]"
      ]
     },
     "execution_count": 106,
     "metadata": {},
     "output_type": "execute_result"
    }
   ],
   "source": [
    "get_rows_sorted_by_relevance(\"Who won the season 42 of survivor USA?\", df)"
   ]
  },
  {
   "cell_type": "code",
   "execution_count": null,
   "id": "74280b92",
   "metadata": {},
   "outputs": [],
   "source": [
    "\n"
   ]
  },
  {
   "cell_type": "markdown",
   "id": "41b2c2f6",
   "metadata": {},
   "source": [
    "\n",
    "### Step 3: Create a Function that Composes a Text Prompt\n",
    "\n",
    "Building on that sorted list of rows, we're going to select the create a text prompt that provides context to a Completion model in order to help it answer a question. The outline of the prompt looks like this:\n",
    "\n",
    "Answer the question based on the context below, and if the\n",
    "question can't be answered based on the context, say \"I don't\n",
    "know\"\n",
    "\n",
    "Context:\n",
    "\n",
    "{context}\n",
    "\n",
    "---\n",
    "\n",
    "Question: {question}\n",
    "Answer:\n",
    "\n",
    "We want to fit as much of our dataset as possible into the \"context\" part of the prompt without exceeding the number of tokens allowed by the Completion model, which is currently 4,000. So we'll loop over the dataset, counting the tokens as we go, and stop when we hit the limit. Then we'll join that list of text data into a single string and add it to the prompt.\n"
   ]
  },
  {
   "cell_type": "code",
   "execution_count": 116,
   "id": "9f68c86e",
   "metadata": {},
   "outputs": [],
   "source": [
    "import tiktoken\n",
    "\n",
    "def create_prompt(question, df, max_token_count):\n",
    "    \"\"\"\n",
    "    Given a question and a dataframe containing rows of text and their\n",
    "    embeddings, return a text prompt to send to a Completion model\n",
    "    \"\"\"\n",
    "    # Create a tokenizer that is designed to align with our embeddings\n",
    "    tokenizer = tiktoken.get_encoding(\"cl100k_base\")\n",
    "    \n",
    "    # Count the number of tokens in the prompt template and question\n",
    "    prompt_template = \"\"\"\n",
    "Answer the question based on the context below, and if the question\n",
    "can't be answered based on the context, say \"I don't know\"\"\n",
    "\n",
    "Context: \n",
    "\n",
    "{}\n",
    "\n",
    "---\n",
    "\n",
    "Question: {}\n",
    "Answer:\"\"\"\n",
    "\n",
    "    df_copy = df.copy()\n",
    "    \n",
    "    \n",
    "    context = []  \n",
    "    current_token_count = len(tokenizer.encode(prompt_template)) + \\\n",
    "                            len(tokenizer.encode(question)) \n",
    "    \n",
    "    for text in get_rows_sorted_by_relevance(question, df_copy)[\"text\"].values:\n",
    "        \n",
    "        # Increase the counter based on the number of tokens in this row\n",
    "        text_token_count = len(tokenizer.encode(text))\n",
    "        current_token_count += text_token_count\n",
    "        \n",
    "        # Add the row of text to the list if we haven't exceeded the max\n",
    "        if current_token_count <= max_token_count:\n",
    "            context.append(text)\n",
    "        else:\n",
    "            break\n",
    "\n",
    "    return prompt_template.format(\"\\n\\n###\\n\\n\".join(context), question)"
   ]
  },
  {
   "cell_type": "code",
   "execution_count": 131,
   "id": "94908e86",
   "metadata": {},
   "outputs": [
    {
     "name": "stdout",
     "output_type": "stream",
     "text": [
      "\n",
      "Answer the question based on the context below, and if the question\n",
      "can't be answered based on the context, say \"I don't know\"\"\n",
      "\n",
      "Context: \n",
      "\n",
      "Season 44 titled 44 of Survivor, aired between 2023-03-01 and 2023-05-24, contestent Carolyn Wiger Aged 35 from hometown North St. Paul, MN, works as a Drug Counselor and a  Ranked 2nd Runner-Up\n",
      "\n",
      "---\n",
      "\n",
      "Question: what won the Season 42 of the Survivor USA?\n",
      "Answer:\n"
     ]
    }
   ],
   "source": [
    "print(create_prompt(question_season_42_winner, df , 150))"
   ]
  },
  {
   "cell_type": "code",
   "execution_count": 111,
   "id": "f751d826",
   "metadata": {},
   "outputs": [],
   "source": [
    "COMPLETION_MODEL_NAME = \"gpt-3.5-turbo-instruct\"\n",
    "\n",
    "def answer_question(\n",
    "    question, df, max_prompt_tokens=1800, max_answer_tokens=150\n",
    "):\n",
    "    \"\"\"\n",
    "    Given a question, a dataframe containing rows of text, and a maximum\n",
    "    number of desired tokens in the prompt and response, return the\n",
    "    answer to the question according to an OpenAI Completion model\n",
    "    \n",
    "    If the model produces an error, return an empty string\n",
    "    \"\"\"\n",
    "    \n",
    "    prompt = create_prompt(question, df, max_prompt_tokens)\n",
    "    \n",
    "    try:\n",
    "        response = openai.Completion.create(\n",
    "            model=COMPLETION_MODEL_NAME,\n",
    "            prompt=prompt,\n",
    "            max_tokens=max_answer_tokens\n",
    "        )\n",
    "        return response[\"choices\"][0][\"text\"].strip()\n",
    "    except Exception as e:\n",
    "        print(e)\n",
    "        return \"\"\n",
    "    "
   ]
  },
  {
   "cell_type": "code",
   "execution_count": 112,
   "id": "97acc0d4",
   "metadata": {},
   "outputs": [
    {
     "name": "stdout",
     "output_type": "stream",
     "text": [
      "\n",
      "Answer the question based on the context below, and if the question\n",
      "can't be answered based on the context, say \"I don't know\"\"\n",
      "\n",
      "Context: \n",
      "\n",
      "Season 45 titled 45 of Survivor, aired between 2023-09-27 and 2023-12-20, contestent Jake O'Kane Aged 26 from hometown Boston, MA, works as a Attorney and a  Ranked 2nd Runner-Up\n",
      "\n",
      "###\n",
      "\n",
      "Season 45 titled 45 of Survivor, aired between 2023-09-27 and 2023-12-20, contestent Austin Li Coon Aged 26 from hometown Chicago, IL, works as a Grad Student and a  Ranked Runner-Up\n",
      "\n",
      "---\n",
      "\n",
      "Question: Who had won the season 45 of survivor USA?\n",
      "Answer:\n"
     ]
    }
   ],
   "source": [
    "print(create_prompt(\"Who had won the season 45 of survivor USA?\", df, 200))"
   ]
  },
  {
   "cell_type": "markdown",
   "id": "cd8ccd58",
   "metadata": {},
   "source": [
    "\n",
    "### Step 4: Create a Function that Answers a Question\n",
    "\n",
    "Our final step is to send that text prompt to a Completion model and parse the model output!\n"
   ]
  },
  {
   "cell_type": "markdown",
   "id": "1783f146",
   "metadata": {},
   "source": [
    "## Custom Performance Demonstration\n",
    "\n",
    "TODO: In the cells below, demonstrate the performance of your custom query using at least 2 questions. For each question, show the answer from a basic `Completion` model query as well as the answer from your custom query."
   ]
  },
  {
   "cell_type": "markdown",
   "id": "4f11fdc0",
   "metadata": {},
   "source": [
    "### Check prompts"
   ]
  },
  {
   "cell_type": "code",
   "execution_count": 132,
   "id": "4901c850",
   "metadata": {},
   "outputs": [
    {
     "name": "stdout",
     "output_type": "stream",
     "text": [
      "\n",
      "Answer the question based on the context below, and if the question\n",
      "can't be answered based on the context, say \"I don't know\"\"\n",
      "\n",
      "Context: \n",
      "\n",
      "Season 44 titled 44 of Survivor, aired between 2023-03-01 and 2023-05-24, contestent Carolyn Wiger Aged 35 from hometown North St. Paul, MN, works as a Drug Counselor and a  Ranked 2nd Runner-Up\n",
      "\n",
      "###\n",
      "\n",
      "Season 41 titled 41 of Survivor, aired between 2021-09-22 and 2021-12-15, contestent Sara Wilson Aged 24 from hometown Boston, MA, works as a Healthcare Consultant and a  Ranked 17th\n",
      "\n",
      "---\n",
      "\n",
      "Question: what won the Season 42 of the Survivor USA?\n",
      "Answer:\n"
     ]
    }
   ],
   "source": [
    "print(create_prompt(question_season_42_winner, df, 200))"
   ]
  },
  {
   "cell_type": "code",
   "execution_count": 134,
   "id": "a6da7c42",
   "metadata": {},
   "outputs": [
    {
     "name": "stdout",
     "output_type": "stream",
     "text": [
      "\n",
      "Answer the question based on the context below, and if the question\n",
      "can't be answered based on the context, say \"I don't know\"\"\n",
      "\n",
      "Context: \n",
      "\n",
      "Season 44 titled 44 of Survivor, aired between 2023-03-01 and 2023-05-24, contestent Carolyn Wiger Aged 35 from hometown North St. Paul, MN, works as a Drug Counselor and a  Ranked 2nd Runner-Up\n",
      "\n",
      "---\n",
      "\n",
      "Question: what was the runner-up of season 44 of Survivor USA?\n",
      "Answer:\n"
     ]
    }
   ],
   "source": [
    "print(create_prompt(question_season_44_runnerup, df, 150))"
   ]
  },
  {
   "cell_type": "code",
   "execution_count": 121,
   "id": "73ead298",
   "metadata": {},
   "outputs": [
    {
     "name": "stdout",
     "output_type": "stream",
     "text": [
      "\n",
      "Question: \"Who was the runner-up in the season 44 of survivor USA?\"\n",
      "Answer:\n",
      "\n"
     ]
    }
   ],
   "source": [
    "print(prompt_44_runnerup)"
   ]
  },
  {
   "cell_type": "code",
   "execution_count": 122,
   "id": "a1e37b54",
   "metadata": {},
   "outputs": [],
   "source": [
    "def get_compare_AI_response(prompt, \n",
    "                            initial_response,\n",
    "                            func=answer_question, \n",
    "                            df=df):\n",
    "    \"\"\"\n",
    "    Function to get the response with the added context (new data)\n",
    "    and compare with the initial response from teh model\n",
    "    \n",
    "    ARGUMENTS:\n",
    "    func              : function to return the reponse from AI\n",
    "    prompt            : prompt or question\n",
    "    initial_reponse   : response from the initial model, without newly added context/data\n",
    "    df                : dataframe with the embeddings to use as context\n",
    "    \"\"\"\n",
    "    \n",
    "    answer = func(prompt_latest_season, df)\n",
    " \n",
    "    response = f\"\"\"\n",
    "{prompt}\n",
    "\n",
    "Original Answer: {initial_response}\n",
    "Custom Answer:   {answer}\n",
    "\n",
    "\"\"\".format(prompt, initial_response, answer)\n",
    "    \n",
    "    return response"
   ]
  },
  {
   "cell_type": "code",
   "execution_count": null,
   "id": "d4cf6a14",
   "metadata": {},
   "outputs": [],
   "source": []
  },
  {
   "cell_type": "markdown",
   "id": "7d1b8cfa",
   "metadata": {},
   "source": [
    "## Question 1"
   ]
  },
  {
   "cell_type": "code",
   "execution_count": 135,
   "id": "89b14792",
   "metadata": {},
   "outputs": [
    {
     "name": "stdout",
     "output_type": "stream",
     "text": [
      "\n",
      "What is the latest season of survivor USA?\n",
      "\n",
      "Original Answer: The latest season of Survivor USA is season 40, titled \"Winners at War.\" It aired in early 2020.\n",
      "Custom Answer:   The latest season of Survivor USA is season 46, which aired between 2024-02-28 and 2024-05-22.\n",
      "\n",
      "\n"
     ]
    }
   ],
   "source": [
    "print(get_compare_AI_response( question_latest_season, prompt_latest_season_answer))"
   ]
  },
  {
   "cell_type": "markdown",
   "id": "f0b59bac",
   "metadata": {},
   "source": [
    "## Question 2"
   ]
  },
  {
   "cell_type": "code",
   "execution_count": 136,
   "id": "3debcfbc",
   "metadata": {},
   "outputs": [
    {
     "name": "stdout",
     "output_type": "stream",
     "text": [
      "\n",
      "what won the Season 42 of the Survivor USA?\n",
      "\n",
      "Original Answer: The winner of Survivor USA season 42 has not been determined yet as season 42 has not yet aired. The most recent winner of Survivor USA (season 41) was Erika Casupanan.\n",
      "Custom Answer:   Season 46 titled 46 of Survivor, aired between 2024-02-28 and 2024-05-22.\n",
      "\n",
      "\n"
     ]
    }
   ],
   "source": [
    "print(get_compare_AI_response( question_season_42_winner, prompt_42_winner_answer))"
   ]
  },
  {
   "cell_type": "markdown",
   "id": "6500fdbb",
   "metadata": {},
   "source": [
    "## Question 3"
   ]
  },
  {
   "cell_type": "code",
   "execution_count": 137,
   "id": "30d114f8",
   "metadata": {},
   "outputs": [
    {
     "name": "stdout",
     "output_type": "stream",
     "text": [
      "\n",
      "what was the runner-up of season 44 of Survivor USA?\n",
      "\n",
      "Original Answer: The runner-up in Survivor season 44 cannot be determined as the show has not completed that many seasons yet. As of 2021, the 40th season of Survivor has aired.\n",
      "Custom Answer:   Season 46\n",
      "\n",
      "\n"
     ]
    }
   ],
   "source": [
    "print(get_compare_AI_response( question_season_44_runnerup, prompt_44_runnerup_answer))"
   ]
  },
  {
   "cell_type": "code",
   "execution_count": null,
   "id": "6f646989",
   "metadata": {},
   "outputs": [],
   "source": []
  },
  {
   "cell_type": "code",
   "execution_count": null,
   "id": "11c07a54",
   "metadata": {},
   "outputs": [],
   "source": []
  }
 ],
 "metadata": {
  "kernelspec": {
   "display_name": "Python 3 (ipykernel)",
   "language": "python",
   "name": "python3"
  },
  "language_info": {
   "codemirror_mode": {
    "name": "ipython",
    "version": 3
   },
   "file_extension": ".py",
   "mimetype": "text/x-python",
   "name": "python",
   "nbconvert_exporter": "python",
   "pygments_lexer": "ipython3",
   "version": "3.9.18"
  }
 },
 "nbformat": 4,
 "nbformat_minor": 5
}
